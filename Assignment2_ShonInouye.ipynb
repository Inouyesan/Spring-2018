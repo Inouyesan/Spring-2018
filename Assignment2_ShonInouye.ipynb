{
 "cells": [
  {
   "cell_type": "markdown",
   "metadata": {},
   "source": [
    "# PSTAT 134 HW 2\n",
    "##  Shon Inouye"
   ]
  },
  {
   "cell_type": "markdown",
   "metadata": {},
   "source": [
    "### Problem 1: Data Download"
   ]
  },
  {
   "cell_type": "code",
   "execution_count": null,
   "metadata": {},
   "outputs": [],
   "source": [
    "# Import data\n",
    "%matplotlib inline\n",
    "import matplotlib.pyplot as plt\n",
    "import seaborn; seaborn.set()  # set plot style\n",
    "import pandas as pd\n",
    "import numpy as np\n",
    "from ipywidgets import interact, FloatSlider, Dropdown, Button"
   ]
  },
  {
   "cell_type": "code",
   "execution_count": null,
   "metadata": {},
   "outputs": [],
   "source": [
    "# Define function to pull nba data\n",
    "def get_nba_data(endpt, params, return_url=False):\n",
    "\n",
    "    ## endpt: https://github.com/seemethere/nba_py/wiki/stats.nba.com-Endpoint-Documentation\n",
    "    ## params: dictionary of parameters: i.e., {'LeagueID':'00'}\n",
    "    from urllib.parse import urlencode\n",
    "    import json\n",
    "    \n",
    "    useragent = \"\\\"Mozilla/5.0 (Macintosh; Intel Mac OS X 10_11_2) AppleWebKit/601.3.9 (KHTML, like Gecko) Version/9.0.2 Safari/601.3.9\\\"\"\n",
    "\n",
    "    dataurl = \"\\\"\" + \"http://stats.nba.com/stats/\" + endpt + \"?\" + urlencode(params) + \"\\\"\"\n",
    "    \n",
    "    # for debugging: just return the url\n",
    "    if return_url:\n",
    "        return(dataurl)\n",
    "    \n",
    "    jsonstr = !wget -q -O - --user-agent={useragent} {dataurl}\n",
    "    \n",
    "    data = json.loads(jsonstr[0])\n",
    "    \n",
    "    h = data['resultSets'][0]['headers']\n",
    "    d = data['resultSets'][0]['rowSet']\n",
    "    \n",
    "    return(pd.DataFrame(d, columns=h))"
   ]
  },
  {
   "cell_type": "code",
   "execution_count": null,
   "metadata": {},
   "outputs": [],
   "source": [
    "## get all teams\n",
    "params = {'LeagueID':'00'}\n",
    "teams = get_nba_data('commonTeamYears', params)\n",
    "\n",
    "## get all players\n",
    "params = {'LeagueID':'00', 'Season': '2016-17', 'IsOnlyCurrentSeason': '0'}\n",
    "players = get_nba_data('commonallplayers', params)\n",
    "\n",
    "## get all team franchise history\n",
    "params = {'LeagueID':'00'}\n",
    "history = get_nba_data('franchisehistory',params)"
   ]
  },
  {
   "cell_type": "code",
   "execution_count": null,
   "metadata": {},
   "outputs": [],
   "source": [
    "# Change type of columns for teams\n",
    "teams.ABBREVIATION = teams.ABBREVIATION.astype('category')\n",
    "teams.TEAM_ID      = teams.TEAM_ID.astype('category')\n",
    "teams.MIN_YEAR     = teams.MIN_YEAR.astype('int')\n",
    "teams.MAX_YEAR     = teams.MAX_YEAR.astype('int')"
   ]
  },
  {
   "cell_type": "code",
   "execution_count": null,
   "metadata": {},
   "outputs": [],
   "source": [
    "# Subset the current teams\n",
    "teams = teams[teams.MAX_YEAR == 2017]\n",
    "teams['TEAM_AGE'] = teams.MAX_YEAR - teams.MIN_YEAR\n",
    "\n",
    "teams_clean = teams.copy() ## make a copy for later"
   ]
  },
  {
   "cell_type": "code",
   "execution_count": null,
   "metadata": {},
   "outputs": [],
   "source": [
    "teams.head()"
   ]
  },
  {
   "cell_type": "code",
   "execution_count": null,
   "metadata": {},
   "outputs": [],
   "source": [
    "# Subset just the players in current teams\n",
    "players = players[players.TEAM_ID.isin(teams.TEAM_ID)]"
   ]
  },
  {
   "cell_type": "code",
   "execution_count": null,
   "metadata": {},
   "outputs": [],
   "source": [
    "players.head()"
   ]
  },
  {
   "cell_type": "code",
   "execution_count": null,
   "metadata": {},
   "outputs": [],
   "source": [
    "# Create a table of unique rows with full team names\n",
    "team_names = players[['TEAM_ABBREVIATION', 'TEAM_CODE']].drop_duplicates()#.set_index('TEAM_ABBREVIATION')\n",
    "team_names.head()"
   ]
  },
  {
   "cell_type": "code",
   "execution_count": null,
   "metadata": {},
   "outputs": [],
   "source": [
    "# Add team codes as a new column\n",
    "teams = pd.merge(teams_clean, team_names, left_on='ABBREVIATION', right_on='TEAM_ABBREVIATION')\n",
    "\n",
    "teams.TEAM_CODE = teams.TEAM_CODE.str.capitalize() # returns values so needs to be reassigned\n",
    "teams.sort_values('ABBREVIATION', inplace=True)    # modifies object\n",
    "teams.tail()"
   ]
  },
  {
   "cell_type": "code",
   "execution_count": null,
   "metadata": {},
   "outputs": [],
   "source": [
    "# Create new column for year range\n",
    "history['YEAR_RANGE'] = history.START_YEAR+' - '+history.END_YEAR\n",
    "history.sort_values('TEAM_ID', inplace=True)\n",
    "history.head()"
   ]
  },
  {
   "cell_type": "markdown",
   "metadata": {},
   "source": [
    "### Problem 2: Creating interactive widgets"
   ]
  },
  {
   "cell_type": "markdown",
   "metadata": {},
   "source": [
    "#### Widget 1"
   ]
  },
  {
   "cell_type": "code",
   "execution_count": null,
   "metadata": {},
   "outputs": [],
   "source": [
    "menu = {\n",
    "    'juice':['apple', 'peach', 'grape'],\n",
    "    'tea':['ginger', 'green', 'earl grey'],\n",
    "}\n",
    "\n",
    "selected1 = 'tea'\n",
    "\n",
    "flavor = Dropdown(options=menu[selected1], value=menu[selected1][0])\n",
    "drink = Dropdown(options=menu.keys(), value=selected1)\n",
    "\n",
    "def update_drink(change):\n",
    "    flavor.index = None\n",
    "    flavor.options = menu[change['new']]\n",
    "    flavor.selected = menu[change['new']][0]\n",
    "\n",
    "    \n",
    "drink.observe(update_drink, names='value')\n",
    " \n",
    "display(flavor, drink)"
   ]
  },
  {
   "cell_type": "markdown",
   "metadata": {},
   "source": [
    "#### Widget 2"
   ]
  },
  {
   "cell_type": "code",
   "execution_count": null,
   "metadata": {},
   "outputs": [],
   "source": [
    "team_dd_text = teams.TEAM_ABBREVIATION+', '+teams.TEAM_CODE\n",
    "team_dd = dict(zip(team_dd_text, teams.TEAM_ID))\n",
    "\n",
    "plyr_by_team_dd = dict()\n",
    "\n",
    "for t, p in players.groupby('TEAM_ID'):\n",
    "    plyr_by_team_dd[t] = dict(zip(p.DISPLAY_LAST_COMMA_FIRST, p.PERSON_ID))"
   ]
  },
  {
   "cell_type": "code",
   "execution_count": null,
   "metadata": {},
   "outputs": [],
   "source": [
    "selected2 = 'LAC, Clippers'\n",
    "\n",
    "team_menu1 = Dropdown(options=team_dd, label=selected2)\n",
    "plyr_menu1 = Dropdown(options=plyr_by_team_dd[team_dd[selected2]])\n",
    "\n",
    "display(team_menu1, plyr_menu1)\n",
    "\n",
    "## update players list\n",
    "def update_team1(change):\n",
    "    plyr_menu1.index = None\n",
    "    plyr_menu1.options = plyr_by_team_dd[change['new']]\n",
    "\n",
    "team_menu1.observe(update_team, names='value')\n",
    "\n"
   ]
  },
  {
   "cell_type": "markdown",
   "metadata": {},
   "source": [
    "#### Widget 3"
   ]
  },
  {
   "cell_type": "code",
   "execution_count": null,
   "metadata": {},
   "outputs": [],
   "source": [
    "team_dd_text2 = history.TEAM_CITY+' '+history.TEAM_NAME\n",
    "team_dd2 = dict(zip(team_dd_text2, history.TEAM_ID))"
   ]
  },
  {
   "cell_type": "code",
   "execution_count": null,
   "metadata": {},
   "outputs": [],
   "source": [
    "hist_by_team_dd = dict()\n",
    "\n",
    "for t, h in history.groupby('TEAM_ID'):\n",
    "    \n",
    "    hist_by_team_dd[t] = dict(zip(h.YEAR_RANGE, h.GAMES))\n"
   ]
  },
  {
   "cell_type": "code",
   "execution_count": null,
   "metadata": {},
   "outputs": [],
   "source": [
    "selected3 = 'Atlanta Hawks'\n",
    "\n",
    "team_menu2 = Dropdown(options=team_dd2, label=selected3)\n",
    "hist_menu = Dropdown(options=hist_by_team_dd[team_dd2[selected3]])\n",
    "\n",
    "display(team_menu2, hist_menu)\n",
    "\n",
    "def update_team2(change):\n",
    "    hist_menu.options = hist_by_team_dd[change['new']]\n",
    "    hist_menu.selected = hist_by_team_dd[change['new']]\n",
    "\n",
    "team_menu2.observe(update_team2, names='value')"
   ]
  },
  {
   "cell_type": "markdown",
   "metadata": {},
   "source": [
    "### Problem 3: Downloading data with changing widget states"
   ]
  },
  {
   "cell_type": "markdown",
   "metadata": {},
   "source": [
    "#### Widget 1"
   ]
  },
  {
   "cell_type": "code",
   "execution_count": null,
   "metadata": {},
   "outputs": [],
   "source": [
    "order = Button(description='Order!', icon='check')\n",
    "\n",
    "def make_order(change):\n",
    "    print(flavor.value, drink.value)\n",
    "    \n",
    "order.on_click(make_order)\n",
    " \n",
    "display(flavor, drink, order)"
   ]
  },
  {
   "cell_type": "markdown",
   "metadata": {},
   "source": [
    "#### Widget 2"
   ]
  },
  {
   "cell_type": "code",
   "execution_count": null,
   "metadata": {},
   "outputs": [],
   "source": [
    "fetch_button1 = Button(description='Get Data!', icon='check')\n",
    "\n",
    "display(team_menu1, plyr_menu1, fetch_button1)\n",
    "\n",
    "## get data action\n",
    "def get_data1(change):\n",
    "    print(team_menu1.value, plyr_menu1.value)\n",
    "    \n",
    "fetch_button1.on_click(get_data1)"
   ]
  },
  {
   "cell_type": "markdown",
   "metadata": {},
   "source": [
    "#### Widget 3"
   ]
  },
  {
   "cell_type": "code",
   "execution_count": null,
   "metadata": {},
   "outputs": [],
   "source": [
    "fetch_button2 = Button(description='Get Data!', icon='check')\n",
    "\n",
    "display(team_menu2, hist_menu, fetch_button2)\n",
    "\n",
    "## update players list\n",
    "def update_team(change):\n",
    "    hist_menu.options = hist_by_team_dd[change['new']]\n",
    "    #team_menu.options = team_dd[change['new']]\n",
    "\n",
    "team_menu.observe(update_team2, names='value')\n",
    "\n",
    "## get data action\n",
    "def get_data2(change):\n",
    "    print('Games:',hist_menu.value)\n",
    "    \n",
    "fetch_button2.on_click(get_data2)"
   ]
  },
  {
   "cell_type": "markdown",
   "metadata": {},
   "source": [
    "### Problem 4: Data transformation and visualization"
   ]
  },
  {
   "cell_type": "code",
   "execution_count": null,
   "metadata": {},
   "outputs": [],
   "source": [
    "# Feature engineering\n",
    "history.START_YEAR = history.START_YEAR.astype('int')\n",
    "history.END_YEAR = history.END_YEAR.astype('int')\n",
    "history.END_YEAR = history.END_YEAR.astype('int')\n",
    "history['FULL_NAME'] = history.TEAM_CITY+' '+history.TEAM_NAME\n",
    "history['AGE'] = history.END_YEAR - history.START_YEAR\n",
    "\n",
    "history.head()"
   ]
  },
  {
   "cell_type": "code",
   "execution_count": null,
   "metadata": {},
   "outputs": [],
   "source": [
    "# Take average number of games played for number of league titles\n",
    "leagueTitles = history.groupby('LEAGUE_TITLES')['GAMES'].mean()\n",
    "leagueTitles"
   ]
  },
  {
   "cell_type": "code",
   "execution_count": null,
   "metadata": {},
   "outputs": [],
   "source": [
    "# Plot data\n",
    "leagueTitles_Games.plot.bar()\n",
    "plt.xlabel('# of League Titles Won')\n",
    "plt.ylabel('Average Number of Games Played')\n",
    "plt.title('Average Games Played per League Titles Won')\n",
    "plt.show()"
   ]
  },
  {
   "cell_type": "markdown",
   "metadata": {},
   "source": [
    "We can see that as the number of league titles a team wins increases, so does the average number of games played. This makes sense since more games played results in more experience."
   ]
  },
  {
   "cell_type": "code",
   "execution_count": null,
   "metadata": {},
   "outputs": [],
   "source": [
    "# Take average number of games played for number of league titles\n",
    "leagueTitles_WinPct = history.groupby('LEAGUE_TITLES')['WIN_PCT'].mean()\n",
    "leagueTitles_WinPct"
   ]
  },
  {
   "cell_type": "code",
   "execution_count": null,
   "metadata": {},
   "outputs": [],
   "source": [
    "leagueTitles_WinPct.plot.bar()\n",
    "plt.xlabel('# of League Titles Won')\n",
    "plt.ylabel('Average Win Percentage')\n",
    "plt.title('Average Win Percentage per League Titles Won')\n",
    "plt.show()"
   ]
  },
  {
   "cell_type": "markdown",
   "metadata": {},
   "source": [
    "Similar to the previous graph, we can see that as the number of league titles a team wins increases, so does the win percentage. "
   ]
  }
 ],
 "metadata": {
  "language_info": {
   "name": "python",
   "pygments_lexer": "ipython3"
  }
 },
 "nbformat": 4,
 "nbformat_minor": 2
}
