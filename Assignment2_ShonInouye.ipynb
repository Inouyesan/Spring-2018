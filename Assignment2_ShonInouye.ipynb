{
 "cells": [
  {
   "cell_type": "markdown",
   "metadata": {},
   "source": [
    "# PSTAT 134 HW 2\n",
    "##  Shon Inouye"
   ]
  },
  {
   "cell_type": "markdown",
   "metadata": {},
   "source": [
    "### Problem 1: Data Download"
   ]
  },
  {
   "cell_type": "code",
   "execution_count": 203,
   "metadata": {},
   "outputs": [],
   "source": [
    "import pandas as pd\n",
    "import numpy as np\n",
    "from ipywidgets import interact, FloatSlider, Dropdown, Button"
   ]
  },
  {
   "cell_type": "code",
   "execution_count": 204,
   "metadata": {},
   "outputs": [],
   "source": [
    "def get_nba_data(endpt, params, return_url=False):\n",
    "\n",
    "    ## endpt: https://github.com/seemethere/nba_py/wiki/stats.nba.com-Endpoint-Documentation\n",
    "    ## params: dictionary of parameters: i.e., {'LeagueID':'00'}\n",
    "    from urllib.parse import urlencode\n",
    "    import json\n",
    "    \n",
    "    useragent = \"\\\"Mozilla/5.0 (Macintosh; Intel Mac OS X 10_11_2) AppleWebKit/601.3.9 (KHTML, like Gecko) Version/9.0.2 Safari/601.3.9\\\"\"\n",
    "\n",
    "    dataurl = \"\\\"\" + \"http://stats.nba.com/stats/\" + endpt + \"?\" + urlencode(params) + \"\\\"\"\n",
    "    \n",
    "    # for debugging: just return the url\n",
    "    if return_url:\n",
    "        return(dataurl)\n",
    "    \n",
    "    jsonstr = !wget -q -O - --user-agent={useragent} {dataurl}\n",
    "    \n",
    "    data = json.loads(jsonstr[0])\n",
    "    \n",
    "    h = data['resultSets'][0]['headers']\n",
    "    d = data['resultSets'][0]['rowSet']\n",
    "    \n",
    "    return(pd.DataFrame(d, columns=h))"
   ]
  },
  {
   "cell_type": "code",
   "execution_count": 205,
   "metadata": {},
   "outputs": [],
   "source": [
    "## get all team franchise history\n",
    "params = {'LeagueID':'00'}\n",
    "history = get_nba_data('franchisehistory',params)"
   ]
  },
  {
   "cell_type": "code",
   "execution_count": 206,
   "metadata": {},
   "outputs": [
    {
     "data": {
      "text/html": [
       "<div>\n",
       "<table border=\"1\" class=\"dataframe\">\n",
       "  <thead>\n",
       "    <tr style=\"text-align: right;\">\n",
       "      <th></th>\n",
       "      <th>LEAGUE_ID</th>\n",
       "      <th>TEAM_ID</th>\n",
       "      <th>TEAM_CITY</th>\n",
       "      <th>TEAM_NAME</th>\n",
       "      <th>START_YEAR</th>\n",
       "      <th>END_YEAR</th>\n",
       "      <th>YEARS</th>\n",
       "      <th>GAMES</th>\n",
       "      <th>WINS</th>\n",
       "      <th>LOSSES</th>\n",
       "      <th>WIN_PCT</th>\n",
       "      <th>PO_APPEARANCES</th>\n",
       "      <th>DIV_TITLES</th>\n",
       "      <th>CONF_TITLES</th>\n",
       "      <th>LEAGUE_TITLES</th>\n",
       "    </tr>\n",
       "  </thead>\n",
       "  <tbody>\n",
       "    <tr>\n",
       "      <th>0</th>\n",
       "      <td>00</td>\n",
       "      <td>1610612737</td>\n",
       "      <td>Atlanta</td>\n",
       "      <td>Hawks</td>\n",
       "      <td>1949</td>\n",
       "      <td>2017</td>\n",
       "      <td>69</td>\n",
       "      <td>5472</td>\n",
       "      <td>2718</td>\n",
       "      <td>2754</td>\n",
       "      <td>0.496</td>\n",
       "      <td>46</td>\n",
       "      <td>11</td>\n",
       "      <td>0</td>\n",
       "      <td>1</td>\n",
       "    </tr>\n",
       "    <tr>\n",
       "      <th>1</th>\n",
       "      <td>00</td>\n",
       "      <td>1610612737</td>\n",
       "      <td>Atlanta</td>\n",
       "      <td>Hawks</td>\n",
       "      <td>1968</td>\n",
       "      <td>2017</td>\n",
       "      <td>50</td>\n",
       "      <td>4052</td>\n",
       "      <td>2019</td>\n",
       "      <td>2033</td>\n",
       "      <td>0.498</td>\n",
       "      <td>33</td>\n",
       "      <td>5</td>\n",
       "      <td>0</td>\n",
       "      <td>0</td>\n",
       "    </tr>\n",
       "    <tr>\n",
       "      <th>2</th>\n",
       "      <td>00</td>\n",
       "      <td>1610612737</td>\n",
       "      <td>St. Louis</td>\n",
       "      <td>Hawks</td>\n",
       "      <td>1955</td>\n",
       "      <td>1967</td>\n",
       "      <td>13</td>\n",
       "      <td>1008</td>\n",
       "      <td>555</td>\n",
       "      <td>453</td>\n",
       "      <td>0.550</td>\n",
       "      <td>12</td>\n",
       "      <td>6</td>\n",
       "      <td>0</td>\n",
       "      <td>1</td>\n",
       "    </tr>\n",
       "    <tr>\n",
       "      <th>3</th>\n",
       "      <td>00</td>\n",
       "      <td>1610612737</td>\n",
       "      <td>Milwaukee</td>\n",
       "      <td>Hawks</td>\n",
       "      <td>1951</td>\n",
       "      <td>1954</td>\n",
       "      <td>4</td>\n",
       "      <td>280</td>\n",
       "      <td>90</td>\n",
       "      <td>190</td>\n",
       "      <td>0.321</td>\n",
       "      <td>0</td>\n",
       "      <td>0</td>\n",
       "      <td>0</td>\n",
       "      <td>0</td>\n",
       "    </tr>\n",
       "    <tr>\n",
       "      <th>4</th>\n",
       "      <td>00</td>\n",
       "      <td>1610612737</td>\n",
       "      <td>Tri-Cities</td>\n",
       "      <td>Blackhawks</td>\n",
       "      <td>1949</td>\n",
       "      <td>1950</td>\n",
       "      <td>2</td>\n",
       "      <td>132</td>\n",
       "      <td>54</td>\n",
       "      <td>78</td>\n",
       "      <td>0.409</td>\n",
       "      <td>1</td>\n",
       "      <td>0</td>\n",
       "      <td>0</td>\n",
       "      <td>0</td>\n",
       "    </tr>\n",
       "  </tbody>\n",
       "</table>\n",
       "</div>"
      ],
      "text/plain": [
       "  LEAGUE_ID     TEAM_ID   TEAM_CITY   TEAM_NAME START_YEAR END_YEAR  YEARS  \\\n",
       "0        00  1610612737     Atlanta       Hawks       1949     2017     69   \n",
       "1        00  1610612737     Atlanta       Hawks       1968     2017     50   \n",
       "2        00  1610612737   St. Louis       Hawks       1955     1967     13   \n",
       "3        00  1610612737   Milwaukee       Hawks       1951     1954      4   \n",
       "4        00  1610612737  Tri-Cities  Blackhawks       1949     1950      2   \n",
       "\n",
       "   GAMES  WINS  LOSSES  WIN_PCT  PO_APPEARANCES  DIV_TITLES  CONF_TITLES  \\\n",
       "0   5472  2718    2754    0.496              46          11            0   \n",
       "1   4052  2019    2033    0.498              33           5            0   \n",
       "2   1008   555     453    0.550              12           6            0   \n",
       "3    280    90     190    0.321               0           0            0   \n",
       "4    132    54      78    0.409               1           0            0   \n",
       "\n",
       "   LEAGUE_TITLES  \n",
       "0              1  \n",
       "1              0  \n",
       "2              1  \n",
       "3              0  \n",
       "4              0  "
      ]
     },
     "execution_count": 206,
     "metadata": {},
     "output_type": "execute_result"
    }
   ],
   "source": [
    "history.head()"
   ]
  },
  {
   "cell_type": "code",
   "execution_count": 207,
   "metadata": {},
   "outputs": [
    {
     "data": {
      "text/html": [
       "<div>\n",
       "<table border=\"1\" class=\"dataframe\">\n",
       "  <thead>\n",
       "    <tr style=\"text-align: right;\">\n",
       "      <th></th>\n",
       "      <th>LEAGUE_ID</th>\n",
       "      <th>TEAM_ID</th>\n",
       "      <th>TEAM_CITY</th>\n",
       "      <th>TEAM_NAME</th>\n",
       "      <th>START_YEAR</th>\n",
       "      <th>END_YEAR</th>\n",
       "      <th>YEARS</th>\n",
       "      <th>GAMES</th>\n",
       "      <th>WINS</th>\n",
       "      <th>LOSSES</th>\n",
       "      <th>WIN_PCT</th>\n",
       "      <th>PO_APPEARANCES</th>\n",
       "      <th>DIV_TITLES</th>\n",
       "      <th>CONF_TITLES</th>\n",
       "      <th>LEAGUE_TITLES</th>\n",
       "      <th>YEAR_RANGE</th>\n",
       "    </tr>\n",
       "  </thead>\n",
       "  <tbody>\n",
       "    <tr>\n",
       "      <th>0</th>\n",
       "      <td>00</td>\n",
       "      <td>1610612737</td>\n",
       "      <td>Atlanta</td>\n",
       "      <td>Hawks</td>\n",
       "      <td>1949</td>\n",
       "      <td>2017</td>\n",
       "      <td>69</td>\n",
       "      <td>5472</td>\n",
       "      <td>2718</td>\n",
       "      <td>2754</td>\n",
       "      <td>0.496</td>\n",
       "      <td>46</td>\n",
       "      <td>11</td>\n",
       "      <td>0</td>\n",
       "      <td>1</td>\n",
       "      <td>1949 - 2017</td>\n",
       "    </tr>\n",
       "    <tr>\n",
       "      <th>1</th>\n",
       "      <td>00</td>\n",
       "      <td>1610612737</td>\n",
       "      <td>Atlanta</td>\n",
       "      <td>Hawks</td>\n",
       "      <td>1968</td>\n",
       "      <td>2017</td>\n",
       "      <td>50</td>\n",
       "      <td>4052</td>\n",
       "      <td>2019</td>\n",
       "      <td>2033</td>\n",
       "      <td>0.498</td>\n",
       "      <td>33</td>\n",
       "      <td>5</td>\n",
       "      <td>0</td>\n",
       "      <td>0</td>\n",
       "      <td>1968 - 2017</td>\n",
       "    </tr>\n",
       "    <tr>\n",
       "      <th>2</th>\n",
       "      <td>00</td>\n",
       "      <td>1610612737</td>\n",
       "      <td>St. Louis</td>\n",
       "      <td>Hawks</td>\n",
       "      <td>1955</td>\n",
       "      <td>1967</td>\n",
       "      <td>13</td>\n",
       "      <td>1008</td>\n",
       "      <td>555</td>\n",
       "      <td>453</td>\n",
       "      <td>0.550</td>\n",
       "      <td>12</td>\n",
       "      <td>6</td>\n",
       "      <td>0</td>\n",
       "      <td>1</td>\n",
       "      <td>1955 - 1967</td>\n",
       "    </tr>\n",
       "    <tr>\n",
       "      <th>3</th>\n",
       "      <td>00</td>\n",
       "      <td>1610612737</td>\n",
       "      <td>Milwaukee</td>\n",
       "      <td>Hawks</td>\n",
       "      <td>1951</td>\n",
       "      <td>1954</td>\n",
       "      <td>4</td>\n",
       "      <td>280</td>\n",
       "      <td>90</td>\n",
       "      <td>190</td>\n",
       "      <td>0.321</td>\n",
       "      <td>0</td>\n",
       "      <td>0</td>\n",
       "      <td>0</td>\n",
       "      <td>0</td>\n",
       "      <td>1951 - 1954</td>\n",
       "    </tr>\n",
       "    <tr>\n",
       "      <th>4</th>\n",
       "      <td>00</td>\n",
       "      <td>1610612737</td>\n",
       "      <td>Tri-Cities</td>\n",
       "      <td>Blackhawks</td>\n",
       "      <td>1949</td>\n",
       "      <td>1950</td>\n",
       "      <td>2</td>\n",
       "      <td>132</td>\n",
       "      <td>54</td>\n",
       "      <td>78</td>\n",
       "      <td>0.409</td>\n",
       "      <td>1</td>\n",
       "      <td>0</td>\n",
       "      <td>0</td>\n",
       "      <td>0</td>\n",
       "      <td>1949 - 1950</td>\n",
       "    </tr>\n",
       "  </tbody>\n",
       "</table>\n",
       "</div>"
      ],
      "text/plain": [
       "  LEAGUE_ID     TEAM_ID   TEAM_CITY   TEAM_NAME START_YEAR END_YEAR  YEARS  \\\n",
       "0        00  1610612737     Atlanta       Hawks       1949     2017     69   \n",
       "1        00  1610612737     Atlanta       Hawks       1968     2017     50   \n",
       "2        00  1610612737   St. Louis       Hawks       1955     1967     13   \n",
       "3        00  1610612737   Milwaukee       Hawks       1951     1954      4   \n",
       "4        00  1610612737  Tri-Cities  Blackhawks       1949     1950      2   \n",
       "\n",
       "   GAMES  WINS  LOSSES  WIN_PCT  PO_APPEARANCES  DIV_TITLES  CONF_TITLES  \\\n",
       "0   5472  2718    2754    0.496              46          11            0   \n",
       "1   4052  2019    2033    0.498              33           5            0   \n",
       "2   1008   555     453    0.550              12           6            0   \n",
       "3    280    90     190    0.321               0           0            0   \n",
       "4    132    54      78    0.409               1           0            0   \n",
       "\n",
       "   LEAGUE_TITLES   YEAR_RANGE  \n",
       "0              1  1949 - 2017  \n",
       "1              0  1968 - 2017  \n",
       "2              1  1955 - 1967  \n",
       "3              0  1951 - 1954  \n",
       "4              0  1949 - 1950  "
      ]
     },
     "execution_count": 207,
     "metadata": {},
     "output_type": "execute_result"
    }
   ],
   "source": [
    "history['YEAR_RANGE'] = history.START_YEAR+' - '+history.END_YEAR\n",
    "history.sort_values('TEAM_ID', inplace=True)\n",
    "history.head()"
   ]
  },
  {
   "cell_type": "markdown",
   "metadata": {},
   "source": [
    "### Problem 2: Creating interactive widgets"
   ]
  },
  {
   "cell_type": "code",
   "execution_count": 208,
   "metadata": {},
   "outputs": [],
   "source": [
    "team_dd_text = history.TEAM_CITY+' '+history.TEAM_NAME\n",
    "team_dd = dict(zip(team_dd_text, history.TEAM_ID))\n"
   ]
  },
  {
   "cell_type": "code",
   "execution_count": 209,
   "metadata": {},
   "outputs": [],
   "source": [
    "hist_by_team_dd = dict()\n",
    "\n",
    "for t, h in history.groupby('TEAM_ID'):\n",
    "    \n",
    "    hist_by_team_dd[t] = dict(zip(h.YEAR_RANGE, h.GAMES))\n"
   ]
  },
  {
   "cell_type": "code",
   "execution_count": 210,
   "metadata": {},
   "outputs": [
    {
     "data": {
      "application/vnd.jupyter.widget-view+json": {
       "model_id": "8224ede40a05412bb38b551cb505ec79",
       "version_major": 2,
       "version_minor": 0
      },
      "text/html": [
       "<p>Failed to display Jupyter Widget of type <code>Dropdown</code>.</p>\n",
       "<p>\n",
       "  If you're reading this message in the Jupyter Notebook or JupyterLab Notebook, it may mean\n",
       "  that the widgets JavaScript is still loading. If this message persists, it\n",
       "  likely means that the widgets JavaScript library is either not installed or\n",
       "  not enabled. See the <a href=\"https://ipywidgets.readthedocs.io/en/stable/user_install.html\">Jupyter\n",
       "  Widgets Documentation</a> for setup instructions.\n",
       "</p>\n",
       "<p>\n",
       "  If you're reading this message in another frontend (for example, a static\n",
       "  rendering on GitHub or <a href=\"https://nbviewer.jupyter.org/\">NBViewer</a>),\n",
       "  it may mean that your frontend doesn't currently support widgets.\n",
       "</p>\n"
      ],
      "text/plain": [
       "Dropdown(options={'Atlanta Hawks': 1610612737, 'St. Louis Hawks': 1610612737, 'Milwaukee Hawks': 1610612737, 'Tri-Cities Blackhawks': 1610612737, 'Boston Celtics': 1610612738, 'Cleveland Cavaliers': 1610612739, 'New Orleans Pelicans': 1610612740, 'New Orleans/Oklahoma City Hornets': 1610612740, 'New Orleans Hornets': 1610612740, 'Chicago Bulls': 1610612741, 'Dallas Mavericks': 1610612742, 'Denver Nuggets': 1610612743, 'Golden State Warriors': 1610612744, 'San Francisco Warriors': 1610612744, 'Philadelphia Warriors': 1610612744, 'Houston Rockets': 1610612745, 'San Diego Rockets': 1610612745, 'LA Clippers': 1610612746, 'San Diego Clippers': 1610612746, 'Buffalo Braves': 1610612746, 'Los Angeles Clippers': 1610612746, 'Los Angeles Lakers': 1610612747, 'Minneapolis Lakers': 1610612747, 'Miami Heat': 1610612748, 'Milwaukee Bucks': 1610612749, 'Minnesota Timberwolves': 1610612750, 'New York Nets': 1610612751, 'Brooklyn Nets': 1610612751, 'New Jersey Nets': 1610612751, 'New York Knicks': 1610612752, 'Orlando Magic': 1610612753, 'Indiana Pacers': 1610612754, 'Philadelphia 76ers': 1610612755, 'Syracuse Nationals': 1610612755, 'Phoenix Suns': 1610612756, 'Portland Trail Blazers': 1610612757, 'Sacramento Kings': 1610612758, 'Kansas City Kings': 1610612758, 'Kansas City-Omaha Kings': 1610612758, 'Cincinnati Royals': 1610612758, 'Rochester Royals': 1610612758, 'San Antonio Spurs': 1610612759, 'Oklahoma City Thunder': 1610612760, 'Seattle SuperSonics': 1610612760, 'Toronto Raptors': 1610612761, 'New Orleans Jazz': 1610612762, 'Utah Jazz': 1610612762, 'Memphis Grizzlies': 1610612763, 'Vancouver Grizzlies': 1610612763, 'Chicago Zephyrs': 1610612764, 'Washington Wizards': 1610612764, 'Washington Bullets': 1610612764, 'Capital Bullets': 1610612764, 'Baltimore Bullets': 1610612764, 'Chicago Packers': 1610612764, 'Ft. Wayne Zollner Pistons': 1610612765, 'Detroit Pistons': 1610612765, 'Charlotte Bobcats': 1610612766, 'Charlotte Hornets': 1610612766}, value=1610612737)"
      ]
     },
     "metadata": {},
     "output_type": "display_data"
    },
    {
     "data": {
      "application/vnd.jupyter.widget-view+json": {
       "model_id": "3434b1941ea64100b9a54a7960acfc8f",
       "version_major": 2,
       "version_minor": 0
      },
      "text/html": [
       "<p>Failed to display Jupyter Widget of type <code>Dropdown</code>.</p>\n",
       "<p>\n",
       "  If you're reading this message in the Jupyter Notebook or JupyterLab Notebook, it may mean\n",
       "  that the widgets JavaScript is still loading. If this message persists, it\n",
       "  likely means that the widgets JavaScript library is either not installed or\n",
       "  not enabled. See the <a href=\"https://ipywidgets.readthedocs.io/en/stable/user_install.html\">Jupyter\n",
       "  Widgets Documentation</a> for setup instructions.\n",
       "</p>\n",
       "<p>\n",
       "  If you're reading this message in another frontend (for example, a static\n",
       "  rendering on GitHub or <a href=\"https://nbviewer.jupyter.org/\">NBViewer</a>),\n",
       "  it may mean that your frontend doesn't currently support widgets.\n",
       "</p>\n"
      ],
      "text/plain": [
       "Dropdown(options={'1949 - 2017': 5472, '1968 - 2017': 4052, '1955 - 1967': 1008, '1951 - 1954': 280, '1949 - 1950': 132}, value=5472)"
      ]
     },
     "metadata": {},
     "output_type": "display_data"
    }
   ],
   "source": [
    "selected = 'Atlanta Hawks'\n",
    "\n",
    "team_menu = Dropdown(options=team_dd, label=selected)\n",
    "hist_menu = Dropdown(options=hist_by_team_dd[team_dd[selected]])\n",
    "\n",
    "display(team_menu, hist_menu)\n",
    "\n",
    "def update_team(change):\n",
    "    hist_menu.options = hist_by_team_dd[change['new']]\n",
    "\n",
    "team_menu.observe(update_team, names='value')"
   ]
  },
  {
   "cell_type": "markdown",
   "metadata": {},
   "source": [
    "### Problem 3: Downloading data with changing widget states"
   ]
  },
  {
   "cell_type": "code",
   "execution_count": 211,
   "metadata": {
    "scrolled": true
   },
   "outputs": [
    {
     "data": {
      "application/vnd.jupyter.widget-view+json": {
       "model_id": "84bafb1e4a3349c78f605d91e86db8d6",
       "version_major": 2,
       "version_minor": 0
      },
      "text/html": [
       "<p>Failed to display Jupyter Widget of type <code>Dropdown</code>.</p>\n",
       "<p>\n",
       "  If you're reading this message in the Jupyter Notebook or JupyterLab Notebook, it may mean\n",
       "  that the widgets JavaScript is still loading. If this message persists, it\n",
       "  likely means that the widgets JavaScript library is either not installed or\n",
       "  not enabled. See the <a href=\"https://ipywidgets.readthedocs.io/en/stable/user_install.html\">Jupyter\n",
       "  Widgets Documentation</a> for setup instructions.\n",
       "</p>\n",
       "<p>\n",
       "  If you're reading this message in another frontend (for example, a static\n",
       "  rendering on GitHub or <a href=\"https://nbviewer.jupyter.org/\">NBViewer</a>),\n",
       "  it may mean that your frontend doesn't currently support widgets.\n",
       "</p>\n"
      ],
      "text/plain": [
       "Dropdown(options={'Atlanta Hawks': 1610612737, 'St. Louis Hawks': 1610612737, 'Milwaukee Hawks': 1610612737, 'Tri-Cities Blackhawks': 1610612737, 'Boston Celtics': 1610612738, 'Cleveland Cavaliers': 1610612739, 'New Orleans Pelicans': 1610612740, 'New Orleans/Oklahoma City Hornets': 1610612740, 'New Orleans Hornets': 1610612740, 'Chicago Bulls': 1610612741, 'Dallas Mavericks': 1610612742, 'Denver Nuggets': 1610612743, 'Golden State Warriors': 1610612744, 'San Francisco Warriors': 1610612744, 'Philadelphia Warriors': 1610612744, 'Houston Rockets': 1610612745, 'San Diego Rockets': 1610612745, 'LA Clippers': 1610612746, 'San Diego Clippers': 1610612746, 'Buffalo Braves': 1610612746, 'Los Angeles Clippers': 1610612746, 'Los Angeles Lakers': 1610612747, 'Minneapolis Lakers': 1610612747, 'Miami Heat': 1610612748, 'Milwaukee Bucks': 1610612749, 'Minnesota Timberwolves': 1610612750, 'New York Nets': 1610612751, 'Brooklyn Nets': 1610612751, 'New Jersey Nets': 1610612751, 'New York Knicks': 1610612752, 'Orlando Magic': 1610612753, 'Indiana Pacers': 1610612754, 'Philadelphia 76ers': 1610612755, 'Syracuse Nationals': 1610612755, 'Phoenix Suns': 1610612756, 'Portland Trail Blazers': 1610612757, 'Sacramento Kings': 1610612758, 'Kansas City Kings': 1610612758, 'Kansas City-Omaha Kings': 1610612758, 'Cincinnati Royals': 1610612758, 'Rochester Royals': 1610612758, 'San Antonio Spurs': 1610612759, 'Oklahoma City Thunder': 1610612760, 'Seattle SuperSonics': 1610612760, 'Toronto Raptors': 1610612761, 'New Orleans Jazz': 1610612762, 'Utah Jazz': 1610612762, 'Memphis Grizzlies': 1610612763, 'Vancouver Grizzlies': 1610612763, 'Chicago Zephyrs': 1610612764, 'Washington Wizards': 1610612764, 'Washington Bullets': 1610612764, 'Capital Bullets': 1610612764, 'Baltimore Bullets': 1610612764, 'Chicago Packers': 1610612764, 'Ft. Wayne Zollner Pistons': 1610612765, 'Detroit Pistons': 1610612765, 'Charlotte Bobcats': 1610612766, 'Charlotte Hornets': 1610612766}, value=1610612737)"
      ]
     },
     "metadata": {},
     "output_type": "display_data"
    },
    {
     "data": {
      "application/vnd.jupyter.widget-view+json": {
       "model_id": "4843506f37f7442e87edea6fcc3811c7",
       "version_major": 2,
       "version_minor": 0
      },
      "text/html": [
       "<p>Failed to display Jupyter Widget of type <code>Dropdown</code>.</p>\n",
       "<p>\n",
       "  If you're reading this message in the Jupyter Notebook or JupyterLab Notebook, it may mean\n",
       "  that the widgets JavaScript is still loading. If this message persists, it\n",
       "  likely means that the widgets JavaScript library is either not installed or\n",
       "  not enabled. See the <a href=\"https://ipywidgets.readthedocs.io/en/stable/user_install.html\">Jupyter\n",
       "  Widgets Documentation</a> for setup instructions.\n",
       "</p>\n",
       "<p>\n",
       "  If you're reading this message in another frontend (for example, a static\n",
       "  rendering on GitHub or <a href=\"https://nbviewer.jupyter.org/\">NBViewer</a>),\n",
       "  it may mean that your frontend doesn't currently support widgets.\n",
       "</p>\n"
      ],
      "text/plain": [
       "Dropdown(options={'1949 - 2017': 5472, '1968 - 2017': 4052, '1955 - 1967': 1008, '1951 - 1954': 280, '1949 - 1950': 132}, value=5472)"
      ]
     },
     "metadata": {},
     "output_type": "display_data"
    },
    {
     "data": {
      "application/vnd.jupyter.widget-view+json": {
       "model_id": "dc7b8b952ec142c7b6b3b11a754a4621",
       "version_major": 2,
       "version_minor": 0
      },
      "text/html": [
       "<p>Failed to display Jupyter Widget of type <code>Button</code>.</p>\n",
       "<p>\n",
       "  If you're reading this message in the Jupyter Notebook or JupyterLab Notebook, it may mean\n",
       "  that the widgets JavaScript is still loading. If this message persists, it\n",
       "  likely means that the widgets JavaScript library is either not installed or\n",
       "  not enabled. See the <a href=\"https://ipywidgets.readthedocs.io/en/stable/user_install.html\">Jupyter\n",
       "  Widgets Documentation</a> for setup instructions.\n",
       "</p>\n",
       "<p>\n",
       "  If you're reading this message in another frontend (for example, a static\n",
       "  rendering on GitHub or <a href=\"https://nbviewer.jupyter.org/\">NBViewer</a>),\n",
       "  it may mean that your frontend doesn't currently support widgets.\n",
       "</p>\n"
      ],
      "text/plain": [
       "Button(description='Get Data!', icon='check', style=ButtonStyle())"
      ]
     },
     "metadata": {},
     "output_type": "display_data"
    },
    {
     "name": "stdout",
     "output_type": "stream",
     "text": [
      "Games: 5472\n"
     ]
    }
   ],
   "source": [
    "selected = 'Atlanta Hawks'\n",
    "\n",
    "team_menu = Dropdown(options=team_dd, label=selected)\n",
    "hist_menu = Dropdown(options=hist_by_team_dd[team_dd[selected]])\n",
    "fetch_button = Button(description='Get Data!', icon='check')\n",
    "\n",
    "display(team_menu, hist_menu, fetch_button)\n",
    "\n",
    "## update players list\n",
    "def update_team(change):\n",
    "    hist_menu.options = hist_by_team_dd[change['new']]\n",
    "    hist_menu.selected = hist_by_team_dd[change['new']]\n",
    "    #team_menu.options = team_dd[change['new']]\n",
    "\n",
    "team_menu.observe(update_team, names='value')\n",
    "\n",
    "## get data action\n",
    "def get_data(change):\n",
    "    print('Games:',hist_menu.value)\n",
    "    \n",
    "fetch_button.on_click(get_data)"
   ]
  },
  {
   "cell_type": "markdown",
   "metadata": {},
   "source": [
    "### Problem 4: Data transformation and visualization"
   ]
  },
  {
   "cell_type": "code",
   "execution_count": null,
   "metadata": {},
   "outputs": [],
   "source": []
  },
  {
   "cell_type": "code",
   "execution_count": null,
   "metadata": {},
   "outputs": [],
   "source": []
  },
  {
   "cell_type": "code",
   "execution_count": null,
   "metadata": {},
   "outputs": [],
   "source": []
  }
 ],
 "metadata": {
  "kernelspec": {
   "display_name": "Python 3",
   "language": "python",
   "name": "python3"
  },
  "language_info": {
   "codemirror_mode": {
    "name": "ipython",
    "version": 3
   },
   "file_extension": ".py",
   "mimetype": "text/x-python",
   "name": "python",
   "nbconvert_exporter": "python",
   "pygments_lexer": "ipython3",
   "version": "3.6.3"
  }
 },
 "nbformat": 4,
 "nbformat_minor": 2
}
